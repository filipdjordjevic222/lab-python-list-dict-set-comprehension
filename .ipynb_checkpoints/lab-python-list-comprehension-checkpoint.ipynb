{
 "cells": [
  {
   "cell_type": "markdown",
   "id": "25d7736c-ba17-4aff-b6bb-66eba20fbf4e",
   "metadata": {},
   "source": [
    "# Lab | List, Dict and Set Comprehension"
   ]
  },
  {
   "cell_type": "markdown",
   "id": "7dd3cbde-675a-4b81-92c3-f728846dbe06",
   "metadata": {},
   "source": [
    "## Exercise: Managing Customer Orders Optimized with Comprehension"
   ]
  },
  {
   "cell_type": "markdown",
   "id": "241d87a2-60c9-4103-81b4-9a09afabf5b3",
   "metadata": {},
   "source": [
    "In the previous exercise, you developed a program to manage customer orders and inventory. Now, let's take it a step further and incorporate comprehension into your code.\n",
    "\n",
    "Follow the steps below to complete the exercise:\n",
    "\n",
    "1. Review your code from the previous exercise and identify areas where you can apply comprehension to simplify and streamline your code. \n",
    "\n",
    "    - *Hint: Apply it to initialize inventory, updating the inventory and printing the updated inventory.*\n",
    "    \n",
    "    - For example, in initializing the inventory, we could have:\n",
    "    \n",
    "        ```python\n",
    "        def initialize_inventory(products):\n",
    "            inventory = {product: int(input(f\"Enter the quantity of {product}s available: \")) for product in products}\n",
    "            return inventory\n",
    "\n",
    "        ```\n",
    "<br>\n",
    "    \n",
    "    \n",
    "2. Modify the function get_customer_orders so it prompts the user to enter the number of customer orders and gathers the product names using a loop and user input. Use comprehension.\n",
    "\n",
    "3. Add a new function to calculate the total price of the customer order. For each product in customer_orders, prompt the user to enter the price of that product. Use comprehension to calculate the total price. Note: assume that the user can only have 1 unit of each product.\n",
    "\n",
    "4. Modify the update_inventory function to remove the product from the inventory if its quantity becomes zero after fulfilling the customer orders. Use comprehension to filter out the products with a quantity of zero from the inventory.\n",
    "\n",
    "5. Print the total price of the customer order.\n",
    "\n",
    "Your code should produce output similar to the following:\n",
    "\n",
    "```python\n",
    "Enter the quantity of t-shirts available:  5\n",
    "Enter the quantity of mugs available:  4\n",
    "Enter the quantity of hats available:  3\n",
    "Enter the quantity of books available:  2\n",
    "Enter the quantity of keychains available:  1\n",
    "Enter the number of customer orders:  2\n",
    "Enter the name of a product that a customer wants to order:  hat\n",
    "Enter the name of a product that a customer wants to order:  keychain\n",
    "\n",
    "Order Statistics:\n",
    "Total Products Ordered: 2\n",
    "Percentage of Unique Products Ordered: 40.0\n",
    "\n",
    "Updated Inventory:\n",
    "t-shirt: 5\n",
    "mug: 4\n",
    "hat: 2\n",
    "book: 2\n",
    "Enter the price of keychain:  5\n",
    "Enter the price of hat:  10\n",
    "Total Price: 15.0\n",
    "\n",
    "```\n"
   ]
  },
  {
   "cell_type": "code",
   "execution_count": 403,
   "id": "71bfc0ca-0fc4-4904-8402-2a3bd831e140",
   "metadata": {},
   "outputs": [],
   "source": [
    "products = [\"t-shirt\", \"mug\", \"hat\", \"book\", \"keychain\"]"
   ]
  },
  {
   "cell_type": "code",
   "execution_count": 405,
   "id": "ffe9595c-7211-4b81-a131-c767a5698ca5",
   "metadata": {
    "editable": true,
    "slideshow": {
     "slide_type": ""
    },
    "tags": []
   },
   "outputs": [
    {
     "name": "stdin",
     "output_type": "stream",
     "text": [
      "Enter the quantity for t-shirts available:  1\n",
      "Enter the quantity for mugs available:  1\n",
      "Enter the quantity for hats available:  1\n",
      "Enter the quantity for books available:  1\n",
      "Enter the quantity for keychains available:  1\n"
     ]
    },
    {
     "name": "stdout",
     "output_type": "stream",
     "text": [
      "t-shirt: 1\n",
      "mug: 1\n",
      "hat: 1\n",
      "book: 1\n",
      "keychain: 1\n"
     ]
    }
   ],
   "source": [
    "  \n",
    "#ask for the integer\n",
    "def get_valid_quantity(product):\n",
    "    while True:\n",
    "        quantity = input(f\"Enter the quantity for {product}s available: \")\n",
    "        if quantity.isdigit():\n",
    "            return int(quantity)\n",
    "        print(\"Please enter a valid number\")\n",
    "#inventory compreh\n",
    "def initialize_inventory (products):\n",
    "    return {product: get_valid_quantity(product) for product in products}\n",
    "\n",
    "#print inventory\n",
    "def print_inventory(inventory):\n",
    "    for product, quantity in inventory.items():\n",
    "        print(f\"{product}: {quantity}\")\n",
    "\n",
    "inventory = initialize_inventory(products)\n",
    "print_inventory(inventory)\n",
    "\n",
    "    "
   ]
  },
  {
   "cell_type": "code",
   "execution_count": 407,
   "id": "2756485e-b261-44cf-8e83-72120617cbc1",
   "metadata": {},
   "outputs": [
    {
     "name": "stdout",
     "output_type": "stream",
     "text": [
      "Enter the number of customer orders: \n"
     ]
    },
    {
     "name": "stdin",
     "output_type": "stream",
     "text": [
      "How many products do you want?  1\n",
      "Enter the name of the product:  hat\n"
     ]
    },
    {
     "name": "stdout",
     "output_type": "stream",
     "text": [
      "Number of customer orders:1\n",
      "Customer ordered products:  {'hat'}\n"
     ]
    }
   ],
   "source": [
    "#2 get customer order modify(comprehension), \n",
    "#prompts the user to enter the number of customer orders and \n",
    "#gathers the product names using a loop and user input \n",
    "\n",
    "def get_customer_orders (products):\n",
    "    print(\"Enter the number of customer orders: \")\n",
    "    order_count = int(input(\"How many products do you want? \"))\n",
    "\n",
    "    customer_orders = set()\n",
    "    \n",
    "    for o in range(order_count):\n",
    "        order = input(\"Enter the name of the product: \")\n",
    "        if order in products:\n",
    "            customer_orders.add(order)\n",
    "        else:\n",
    "            print(f\"{order} Sorry, please select the product from the list.\")\n",
    "    return customer_orders\n",
    "#print \n",
    "customer_orders = get_customer_orders(products)\n",
    "print(f\"Number of customer orders:{len(customer_orders)}\")\n",
    "print(\"Customer ordered products: \", customer_orders)\n"
   ]
  },
  {
   "cell_type": "code",
   "execution_count": 409,
   "id": "dd5b1365-4948-4e9f-b414-8d1a21f0abe8",
   "metadata": {
    "editable": true,
    "slideshow": {
     "slide_type": ""
    },
    "tags": []
   },
   "outputs": [
    {
     "name": "stdin",
     "output_type": "stream",
     "text": [
      "Price of hat:  2\n"
     ]
    },
    {
     "name": "stdout",
     "output_type": "stream",
     "text": [
      "Total price of customer order: 2.00 \n"
     ]
    }
   ],
   "source": [
    "#new function calculate the price of each order; \n",
    "#For each product in customer_orders, prompt the user to enter the price of that product. Use comprehension to calculate the total price. Note: assume that the user can only have 1 unit of each product.\n",
    "def calculate_total_price (customer_orders):\n",
    "    prices = {order:float(input(f\"Price of {order}: \")) for order in customer_orders}\n",
    "    total_price = sum(prices.values())\n",
    "    return total_price\n",
    "\n",
    "total_price = calculate_total_price(customer_orders)\n",
    "print(f\"Total price of customer order: {total_price:.2f} \")\n",
    "        \n"
   ]
  },
  {
   "cell_type": "code",
   "execution_count": 411,
   "id": "78b6bc44-af09-41e8-a123-f52652745682",
   "metadata": {
    "editable": true,
    "slideshow": {
     "slide_type": ""
    },
    "tags": []
   },
   "outputs": [],
   "source": [
    "total_orders = len(customer_orders)\n",
    "\n",
    "percentage_ordered = (total_orders / len(products))*100\n",
    "\n",
    "\n",
    "order_status = (total_orders, percentage_ordered) "
   ]
  },
  {
   "cell_type": "code",
   "execution_count": 413,
   "id": "8d3ad7b0-b763-418f-85f9-4f7907f5ccd4",
   "metadata": {},
   "outputs": [
    {
     "name": "stdout",
     "output_type": "stream",
     "text": [
      "Order Statistics:\n",
      "Total products ordered: 1\n",
      "Percentage of products ordered: 20.00%\n"
     ]
    }
   ],
   "source": [
    "print (\"Order Statistics:\")\n",
    "print (f\"Total products ordered: {order_status[0]}\")\n",
    "print (f\"Percentage of products ordered: {order_status[1]:.2f}%\")"
   ]
  },
  {
   "cell_type": "code",
   "execution_count": 415,
   "id": "bbdf22ca-91d7-465f-8598-dcff6c93b565",
   "metadata": {},
   "outputs": [
    {
     "name": "stdout",
     "output_type": "stream",
     "text": [
      "Updated inventory: \n"
     ]
    },
    {
     "data": {
      "text/plain": [
       "{'t-shirt': 1, 'mug': 1, 'book': 1, 'keychain': 1}"
      ]
     },
     "execution_count": 415,
     "metadata": {},
     "output_type": "execute_result"
    }
   ],
   "source": [
    "#comprehension inventory, print\n",
    "def update_inventory(inventory, customer_orders):\n",
    "    print (\"Updated inventory: \")\n",
    "    for order in customer_orders:\n",
    "        if order in inventory and inventory[order]>0:\n",
    "            inventory[order] -= 1\n",
    "    \n",
    "    inventory = {product:qty for product, qty in inventory.items() if qty >0}\n",
    "    return inventory    \n",
    "\n",
    "update_inventory(inventory, customer_orders)\n",
    "\n"
   ]
  },
  {
   "cell_type": "code",
   "execution_count": null,
   "id": "052169ce-fd2f-4116-af03-a9662625902d",
   "metadata": {
    "editable": true,
    "slideshow": {
     "slide_type": ""
    },
    "tags": []
   },
   "outputs": [],
   "source": []
  },
  {
   "cell_type": "code",
   "execution_count": null,
   "id": "335a83a1-df16-481b-be45-56af43013c0c",
   "metadata": {},
   "outputs": [],
   "source": []
  }
 ],
 "metadata": {
  "kernelspec": {
   "display_name": "Python 3 (ipykernel)",
   "language": "python",
   "name": "python3"
  },
  "language_info": {
   "codemirror_mode": {
    "name": "ipython",
    "version": 3
   },
   "file_extension": ".py",
   "mimetype": "text/x-python",
   "name": "python",
   "nbconvert_exporter": "python",
   "pygments_lexer": "ipython3",
   "version": "3.12.4"
  }
 },
 "nbformat": 4,
 "nbformat_minor": 5
}
